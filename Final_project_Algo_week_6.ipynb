{
  "nbformat": 4,
  "nbformat_minor": 0,
  "metadata": {
    "colab": {
      "provenance": [],
      "authorship_tag": "ABX9TyOxUEXGUjNN5W+EDtowCK4I",
      "include_colab_link": true
    },
    "kernelspec": {
      "name": "python3",
      "display_name": "Python 3"
    },
    "language_info": {
      "name": "python"
    }
  },
  "cells": [
    {
      "cell_type": "markdown",
      "metadata": {
        "id": "view-in-github",
        "colab_type": "text"
      },
      "source": [
        "<a href=\"https://colab.research.google.com/github/geopard26/DE_Sprint/blob/master/Final_project_Algo_week_6.ipynb\" target=\"_parent\"><img src=\"https://colab.research.google.com/assets/colab-badge.svg\" alt=\"Open In Colab\"/></a>"
      ]
    },
    {
      "cell_type": "code",
      "source": [
        "import math\n",
        "\n",
        "def find_percentile(a, b, p):\n",
        "    # Если один из массивов пуст, возвращаем нужный перцентиль из другого массива\n",
        "    if not a:\n",
        "        return b[math.ceil(p/100 * len(b)) - 1]\n",
        "    if not b:\n",
        "        return a[math.ceil(p/100 * len(a)) - 1]\n",
        "\n",
        "    # Определяем начальное разбиение\n",
        "    total_length = len(a) + len(b)\n",
        "    k = math.ceil(p/100 * total_length) - 1\n",
        "\n",
        "    # Начальное разбиение массива a\n",
        "    k_a = math.floor(p/100 * len(a))\n",
        "    k_b = k - k_a\n",
        "\n",
        "    while True:\n",
        "        # Проверяем граничные условия для индексов\n",
        "        k_a_in_range = 0 <= k_a < len(a)\n",
        "        k_b_in_range = 0 <= k_b < len(b)\n",
        "\n",
        "        # Получаем значения элементов или устанавливаем граничные значения\n",
        "        a_left = a[k_a-1] if k_a > 0 else float('-inf')\n",
        "        a_right = a[k_a] if k_a_in_range else float('inf')\n",
        "        b_left = b[k_b-1] if k_b > 0 else float('-inf')\n",
        "        b_right = b[k_b] if k_b_in_range else float('inf')\n",
        "\n",
        "        # Проверяем условия и корректируем разбиение\n",
        "        if a_left <= b_right and b_left <= a_right:\n",
        "            return min(a_right, b_right)\n",
        "        elif a_left > b_right:\n",
        "            k_a -= 1\n",
        "            k_b += 1\n",
        "        else:\n",
        "            k_a += 1\n",
        "            k_b -= 1\n"
      ],
      "metadata": {
        "id": "83prmk2TJ5P7"
      },
      "execution_count": 3,
      "outputs": []
    },
    {
      "cell_type": "code",
      "source": [
        "import time\n",
        "import random\n",
        "\n",
        "# Reference solution for stress tests\n",
        "def naive_find_percentile(a, b, p):\n",
        "    c = sorted(a + b)\n",
        "    k = math.ceil((p/100) * len(c)) - 1\n",
        "    return c[k]\n",
        "\n",
        "def test_find_percentile(a, b, p, correct_answer):\n",
        "    result = find_percentile(a, b, p)\n",
        "    assert result == correct_answer, f\"Failed for a={a}, b={b}, p={p}. Got {result}, expected {correct_answer}.\"\n",
        "    print(f\"Test passed for p={p}. Answer: {result}\")\n",
        "\n",
        "def run_unit_tests():\n",
        "    # Some predefined tests\n",
        "    tests = [\n",
        "        ([1, 2, 7, 8, 10], [6, 12], 50, 7),\n",
        "        ([1, 2, 7, 8], [6, 12], 50, 6),\n",
        "        ([15, 20, 35, 40, 50], [], 30, 20),\n",
        "        ([15, 20], [25, 40, 50], 40, 20),\n",
        "        ([], [1, 2, 3, 4, 5], 50, 3)\n",
        "    ]\n",
        "\n",
        "    for a, b, p, answer in tests:\n",
        "        test_find_percentile(a, b, p, answer)\n",
        "\n",
        "def run_stress_test():\n",
        "    for _ in range(100):  # Running 100 stress tests\n",
        "        n, m = random.randint(0, 1000), random.randint(0, 1000)\n",
        "        a = sorted([random.randint(0, 1000) for _ in range(n)])\n",
        "        b = sorted([random.randint(0, 1000) for _ in range(m)])\n",
        "        p = random.randint(1, 100)\n",
        "\n",
        "        correct_answer = naive_find_percentile(a, b, p)\n",
        "        test_find_percentile(a, b, p, correct_answer)\n",
        "\n",
        "def run_max_test():\n",
        "    n, m = 150000, 150000\n",
        "    a = sorted([random.randint(0, 1000000) for _ in range(n)])\n",
        "    b = sorted([random.randint(0, 1000000) for _ in range(m)])\n",
        "    p = random.randint(1, 100)\n",
        "\n",
        "    start_time = time.time()\n",
        "    test_find_percentile(a, b, p, naive_find_percentile(a, b, p))\n",
        "    end_time = time.time()\n",
        "\n",
        "    print(f\"Max test executed in {end_time - start_time:.2f} seconds.\")\n",
        "\n",
        "if __name__ == \"__main__\":\n",
        "    run_unit_tests()\n",
        "    run_stress_test()\n",
        "    run_max_test()\n"
      ],
      "metadata": {
        "id": "EM29fxdCy3zE"
      },
      "execution_count": null,
      "outputs": []
    }
  ]
}